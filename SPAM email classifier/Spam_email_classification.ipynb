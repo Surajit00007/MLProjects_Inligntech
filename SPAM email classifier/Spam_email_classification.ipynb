{
 "cells": [
  {
   "cell_type": "markdown",
   "id": "c0999246",
   "metadata": {},
   "source": [
    "# SPAM EMAIL CLASSIFICATION\n",
    "## Project 1\n",
    "Workflow : Email dataset -->Data pre processing-->data cleaning --> Train-Test split --> Logistic Regression Model --> Analyse Spam/Not Spam"
   ]
  },
  {
   "cell_type": "code",
   "execution_count": 8,
   "id": "eef1b387",
   "metadata": {},
   "outputs": [],
   "source": [
    "#importing necessary libraries\n",
    "import numpy as np\n",
    "import pandas as pd\n",
    "from sklearn.model_selection import train_test_split\n",
    "from sklearn.linear_model import LogisticRegression\n",
    "from sklearn.feature_extraction.text import TfidfVectorizer\n",
    "from sklearn.metrics import accuracy_score\n"
   ]
  },
  {
   "cell_type": "code",
   "execution_count": 9,
   "id": "30ac7706",
   "metadata": {},
   "outputs": [
    {
     "data": {
      "text/plain": [
       "(5157, 2)"
      ]
     },
     "execution_count": 9,
     "metadata": {},
     "output_type": "execute_result"
    }
   ],
   "source": [
    "#Loading the dataset and preparing it for training\n",
    "data = pd.read_csv(\"C:\\\\Users\\\\suraj\\\\OneDrive\\\\Documents\\\\AIML_projects\\\\Email Spam Classifier\\\\email_data.csv\")\n",
    "\n",
    "#remove duplicates\n",
    "data.drop_duplicates(inplace=True)\n",
    "\n",
    "#replacing the null values with a null string\n",
    "data = data.where(pd.notnull(data), '')  \n",
    "\n",
    "data.shape"
   ]
  },
  {
   "cell_type": "code",
   "execution_count": 10,
   "id": "de5d8eaa",
   "metadata": {},
   "outputs": [],
   "source": [
    "#label encoding\n",
    "#labelling the spam mail as 0 and not spam as 1\n",
    "data.loc[data['Category'] == 'spam', 'Category',] = 0\n",
    "data.loc[data['Category'] == 'ham', 'Category',] = 1\n",
    "\n",
    "#separating the data and label\n",
    "x = data['Message']\n",
    "y = data['Category']\n"
   ]
  },
  {
   "cell_type": "code",
   "execution_count": 11,
   "id": "7fc3d90e",
   "metadata": {},
   "outputs": [
    {
     "name": "stdout",
     "output_type": "stream",
     "text": [
      "(5157,)\n",
      "(4125,)\n",
      "(1032,)\n"
     ]
    }
   ],
   "source": [
    "#splitting the data into training and testing data\n",
    "x_train, x_test, y_train, y_test = train_test_split(x, y, test_size=0.2, random_state=42)\n",
    "print(x.shape)\n",
    "print(x_train.shape)\n",
    "print(x_test.shape)"
   ]
  },
  {
   "cell_type": "code",
   "execution_count": 12,
   "id": "f48864d9",
   "metadata": {},
   "outputs": [],
   "source": [
    "#feature extraction\n",
    "feature_extraction = TfidfVectorizer(min_df=1, stop_words='english', lowercase=True)\n",
    "x_train_features = feature_extraction.fit_transform(x_train)\n",
    "x_test_features = feature_extraction.transform(x_test)\n",
    "\n",
    "#converting y_train and y_test values as integers\n",
    "y_train = y_train.astype('int')\n",
    "y_test = y_test.astype('int')\n"
   ]
  },
  {
   "cell_type": "code",
   "execution_count": null,
   "id": "85da3eff",
   "metadata": {},
   "outputs": [],
   "source": [
    "#training the model\n",
    "model = LogisticRegression()\n",
    "model.fit(x_train_features, y_train)"
   ]
  },
  {
   "cell_type": "code",
   "execution_count": 15,
   "id": "712a9e6d",
   "metadata": {},
   "outputs": [
    {
     "name": "stdout",
     "output_type": "stream",
     "text": [
      "Accuracy on training data :  96.21818181818182 %\n"
     ]
    }
   ],
   "source": [
    "#prediction on training data\n",
    "\n",
    "prediction_on_training_data = model.predict(x_train_features)\n",
    "accuracy_on_training_data = accuracy_score(y_train, prediction_on_training_data)\n",
    "\n",
    "print(\"Accuracy on training data : \", accuracy_on_training_data*100, \"%\")\n"
   ]
  },
  {
   "cell_type": "code",
   "execution_count": 16,
   "id": "65204474",
   "metadata": {},
   "outputs": [
    {
     "name": "stdout",
     "output_type": "stream",
     "text": [
      "Accuracy on test data :  95.25193798449612 %\n"
     ]
    }
   ],
   "source": [
    "#prediction on test data\n",
    "prediction_on_test_data = model.predict(x_test_features)\n",
    "accuracy_on_test_data = accuracy_score(y_test, prediction_on_test_data)\n",
    "\n",
    "print(\"Accuracy on test data : \", accuracy_on_test_data*100, \"%\")\n"
   ]
  },
  {
   "cell_type": "code",
   "execution_count": null,
   "id": "d8b4b638",
   "metadata": {},
   "outputs": [
    {
     "name": "stdout",
     "output_type": "stream",
     "text": [
      "[0]\n",
      "Spam Mail\n"
     ]
    }
   ],
   "source": [
    "#Building a predictive system\n",
    "input_mail = [\"Congratulations! You've won a $1,000 Walmart gift card. Click here to claim your prize.\"]\n",
    "#converting the text to feature vectors\n",
    "input_data_features = feature_extraction.transform(input_mail)\n",
    "\n",
    "prediction = model.predict(input_data_features)\n",
    "print(prediction)\n",
    "\n",
    "if (prediction[0] == 0):\n",
    "    print(\"Spam Mail\")\n",
    "else:\n",
    "    print(\"Not Spam Mail\")\n",
    "    "
   ]
  }
 ],
 "metadata": {
  "kernelspec": {
   "display_name": "Python 3",
   "language": "python",
   "name": "python3"
  },
  "language_info": {
   "codemirror_mode": {
    "name": "ipython",
    "version": 3
   },
   "file_extension": ".py",
   "mimetype": "text/x-python",
   "name": "python",
   "nbconvert_exporter": "python",
   "pygments_lexer": "ipython3",
   "version": "3.10.10"
  }
 },
 "nbformat": 4,
 "nbformat_minor": 5
}
